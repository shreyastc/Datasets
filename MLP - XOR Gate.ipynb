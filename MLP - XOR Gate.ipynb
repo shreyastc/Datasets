{
 "cells": [
  {
   "cell_type": "code",
   "execution_count": 2,
   "metadata": {},
   "outputs": [],
   "source": [
    "import tensorflow as tf\n",
    "import numpy as np\n",
    "import matplotlib.pyplot as plt"
   ]
  },
  {
   "cell_type": "code",
   "execution_count": 3,
   "metadata": {},
   "outputs": [],
   "source": [
    "# MLP - XOR Gate\n",
    "def feed_forward(x, w1, b1, w2, b2, train = True):\n",
    "    Z = tf.matmul(x,w1) + b1\n",
    "    Z1 = tf.nn.sigmoid(Z)\n",
    "    Z2 = tf.matmul(Z1,w2) + b2\n",
    "    if train:\n",
    "        return Z2\n",
    "    return tf.nn.sigmoid(Z2)"
   ]
  },
  {
   "cell_type": "code",
   "execution_count": 4,
   "metadata": {},
   "outputs": [],
   "source": [
    "# w1 = random number \n",
    "# Geneartes random weights (w1 & w2)\n",
    "# np.random.randn()\n",
    "def init_weights(shape):\n",
    "    return tf.Variable(tf.random_normal(shape, stddev = 0.1))"
   ]
  },
  {
   "cell_type": "code",
   "execution_count": 5,
   "metadata": {},
   "outputs": [],
   "source": [
    "X = np.array([[0 , 0], [0 , 1], [1, 0], [1, 1]])\n",
    "Y = np.array([[0],[1], [1], [0]])"
   ]
  },
  {
   "cell_type": "code",
   "execution_count": 6,
   "metadata": {},
   "outputs": [
    {
     "name": "stdout",
     "output_type": "stream",
     "text": [
      "WARNING:tensorflow:From C:\\ProgramData\\Anaconda3\\lib\\site-packages\\tensorflow\\python\\framework\\op_def_library.py:263: colocate_with (from tensorflow.python.framework.ops) is deprecated and will be removed in a future version.\n",
      "Instructions for updating:\n",
      "Colocations handled automatically by placer.\n"
     ]
    }
   ],
   "source": [
    "# placeholders for X & Y\n",
    "# [None,2] - None = rows, 2 = Columns\n",
    "# [None,1] - None = rows, 1 = Column\n",
    "X_var = tf.placeholder(tf.float32, [None , 2])\n",
    "Y_var = tf.placeholder(tf.float32, [None , 1])\n",
    "# 2 = input , 5 = number of neurons for input\n",
    "w1 = init_weights([2, 5])\n",
    "b1 = init_weights([5])\n",
    "# 5 = number of neurons , 1 = output-layer\n",
    "w2 = init_weights([5, 1])\n",
    "b2 = init_weights([1])"
   ]
  },
  {
   "cell_type": "code",
   "execution_count": 7,
   "metadata": {},
   "outputs": [],
   "source": [
    "# Return Z2\n",
    "y_hat = feed_forward(X_var, w1, b1, w2, b2)\n",
    "#test\n",
    "pred = feed_forward(X_var, w1, b1, w2, b2, False) "
   ]
  },
  {
   "cell_type": "code",
   "execution_count": 8,
   "metadata": {},
   "outputs": [
    {
     "name": "stdout",
     "output_type": "stream",
     "text": [
      "Iteration 0 Cost 0.69489586353302\n",
      "Iteration 100 Cost 0.051243916153907776\n",
      "Iteration 200 Cost 0.008117902092635632\n",
      "Iteration 300 Cost 0.003946639597415924\n",
      "Iteration 400 Cost 0.0024267069529742002\n",
      "Training Complete\n",
      "Percentages: \n",
      "[[6.5287948e-04]\n",
      " [9.9871528e-01]\n",
      " [9.9871790e-01]\n",
      " [3.4872293e-03]]\n",
      "Prediction: \n",
      "[[0.]\n",
      " [1.]\n",
      " [1.]\n",
      " [0.]]\n"
     ]
    },
    {
     "data": {
      "image/png": "[encoded data removed]",
      "text/plain": [
       "<Figure size 432x288 with 1 Axes>"
      ]
     },
     "metadata": {
      "needs_background": "light"
     },
     "output_type": "display_data"
    }
   ],
   "source": [
    "# Learning Rate\n",
    "learning_rate = 0.05\n",
    "epochs = 500\n",
    "cost = tf.reduce_mean(tf.nn.sigmoid_cross_entropy_with_logits(\n",
    "    logits=y_hat, labels = Y_var))\n",
    "# Fast learning rate\n",
    "train = tf.train.AdamOptimizer(learning_rate).minimize(cost)\n",
    "costs = []\n",
    "init = tf.global_variables_initializer()\n",
    "sess = tf.Session()\n",
    "sess.run(init)\n",
    "# start training\n",
    "for i in range(epochs):\n",
    "    sess.run(train, feed_dict = {X_var: X, Y_var: Y})\n",
    "    c = sess.run(cost, feed_dict = {X_var: X, Y_var: Y})\n",
    "    costs.append(c)\n",
    "    if i % 100==0:\n",
    "        print(f\"Iteration {i} Cost {c}\") \n",
    "print(\"Training Complete\")\n",
    "prediction = sess.run(pred, feed_dict={X_var:X})\n",
    "print(\"Percentages: \")\n",
    "print(prediction)\n",
    "print(\"Prediction: \")\n",
    "print(np.round(prediction))\n",
    "plt.plot(costs)\n",
    "plt.show()"
   ]
  },
  {
   "cell_type": "code",
   "execution_count": 10,
   "metadata": {},
   "outputs": [
    {
     "data": {
      "text/plain": [
       "array([[0.],\n",
       "       [1.],\n",
       "       [1.],\n",
       "       [0.]], dtype=float32)"
      ]
     },
     "execution_count": 10,
     "metadata": {},
     "output_type": "execute_result"
    }
   ],
   "source": [
    "np.round(prediction)"
   ]
  },
  {
   "cell_type": "code",
   "execution_count": null,
   "metadata": {},
   "outputs": [],
   "source": []
  }
 ],
 "metadata": {
  "kernelspec": {
   "display_name": "Python 3",
   "language": "python",
   "name": "python3"
  },
  "language_info": {
   "codemirror_mode": {
    "name": "ipython",
    "version": 3
   },
   "file_extension": ".py",
   "mimetype": "text/x-python",
   "name": "python",
   "nbconvert_exporter": "python",
   "pygments_lexer": "ipython3",
   "version": "3.7.3"
  }
 },
 "nbformat": 4,
 "nbformat_minor": 2
}
